{
 "cells": [
  {
   "cell_type": "code",
   "execution_count": 1,
   "metadata": {},
   "outputs": [
    {
     "data": {
      "application/vnd.jupyter.widget-view+json": {
       "model_id": "",
       "version_major": 2,
       "version_minor": 0
      },
      "method": "display_data"
     },
     "metadata": {},
     "output_type": "display_data"
    },
    {
     "data": {
      "application/vnd.jupyter.widget-view+json": {
       "model_id": "1c23a98c-1317-42d3-bacf-08f8b173b494",
       "version_major": 2,
       "version_minor": 0
      },
      "method": "display_data"
     },
     "metadata": {},
     "output_type": "display_data"
    }
   ],
   "source": [
    "%%classpath add mvn\n",
    "com.github.haifengl smile-scala_2.12 1.5.2"
   ]
  },
  {
   "cell_type": "code",
   "execution_count": 2,
   "metadata": {},
   "outputs": [
    {
     "data": {
      "text/plain": [
       "import java.awt.image.BufferedImage\n",
       "import java.awt.Color\n",
       "import javax.imageio.ImageIO\n",
       "import java.io.File\n",
       "import smile.clustering._\n"
      ]
     },
     "execution_count": 2,
     "metadata": {},
     "output_type": "execute_result"
    }
   ],
   "source": [
    "import java.awt.image.BufferedImage\n",
    "import java.awt.Color\n",
    "import javax.imageio.ImageIO\n",
    "import java.io.File\n",
    "import smile.clustering._"
   ]
  },
  {
   "cell_type": "code",
   "execution_count": 3,
   "metadata": {
    "scrolled": true
   },
   "outputs": [
    {
     "data": {
      "image/png": "[encoded data removed]"
     },
     "execution_count": 3,
     "metadata": {},
     "output_type": "execute_result"
    }
   ],
   "source": [
    "val testImageWidth = 640\n",
    "val testImageHight = 360\n",
    "val testImage = new BufferedImage(testImageWidth, testImageHight, BufferedImage.TYPE_INT_RGB)\n",
    "\n",
    "for {\n",
    "    x <- (0 until testImageWidth)\n",
    "    y <- (0 until testImageHight)\n",
    "    color = if (y <= testImageHight / 3 && (x <= testImageWidth / 3 || x > testImageWidth / 3 * 2)) Color.RED\n",
    "    else if (y > testImageHight / 3 * 2 && (x <= testImageWidth / 3 || x > testImageWidth / 3 * 2)) Color.GREEN\n",
    "    else Color.BLUE\n",
    "} testImage.setRGB(x, y, color.getRGB)\n",
    "\n",
    "testImage"
   ]
  },
  {
   "cell_type": "code",
   "execution_count": 4,
   "metadata": {},
   "outputs": [
    {
     "data": {
      "text/plain": [
       "defined class Pixel\n"
      ]
     },
     "execution_count": 4,
     "metadata": {},
     "output_type": "execute_result"
    }
   ],
   "source": [
    "case class Pixel(x: Int, y: Int, rgbArray: Array[Double], clusterNumber: Option[Int] = None)"
   ]
  },
  {
   "cell_type": "code",
   "execution_count": 5,
   "metadata": {},
   "outputs": [
    {
     "data": {
      "text/plain": [
       "[Pixel(0,0,[D@5ce845f,None), Pixel(0,1,[D@5b8e42c8,None), Pixel(0,2,[D@60ee9831,None), Pixel(0,3,[D@1249f21b,None), Pixel(0,4,[D@63546071,None), Pixel(0,5,[D@4ae5e6d1,None), Pixel(0,6,[D@5e5ec0ac,None), Pixel(0,7,[D@3da3856,None), Pixel(0,8,[D@43cd87b4,None), Pixel(0,9,[D@26fb3272,None)]"
      ]
     },
     "execution_count": 5,
     "metadata": {},
     "output_type": "execute_result"
    }
   ],
   "source": [
    "val pixels = for {\n",
    "    x <- (0 until testImage.getWidth).toArray\n",
    "    y <- (0 until testImage.getHeight)\n",
    "    color = new Color(testImage.getRGB(x, y))\n",
    "} yield Pixel(x, y, Array(color.getRed.toDouble, color.getGreen.toDouble, color.getBlue.toDouble))\n",
    "\n",
    "pixels.take(10)"
   ]
  },
  {
   "cell_type": "code",
   "execution_count": 6,
   "metadata": {},
   "outputs": [
    {
     "data": {
      "text/plain": [
       "K-Means distortion: 0.00000\n",
       "Clusters of 230400 data points of dimension 3:\n",
       "  0\t51667 (22.4%)\n",
       "  1\t127920 (55.5%)\n",
       "  2\t50813 (22.1%)\n"
      ]
     },
     "execution_count": 6,
     "metadata": {},
     "output_type": "execute_result"
    }
   ],
   "source": [
    "val countColors = 3\n",
    "val clusters = kmeans(pixels.map(_.rgbArray), k = countColors, runs = 20)"
   ]
  },
  {
   "cell_type": "code",
   "execution_count": 7,
   "metadata": {},
   "outputs": [
    {
     "data": {
      "text/plain": [
       "[Pixel(0,0,[D@5ce845f,Some(0)), Pixel(0,1,[D@5b8e42c8,Some(0)), Pixel(0,2,[D@60ee9831,Some(0)), Pixel(0,3,[D@1249f21b,Some(0)), Pixel(0,4,[D@63546071,Some(0)), Pixel(0,5,[D@4ae5e6d1,Some(0)), Pixel(0,6,[D@5e5ec0ac,Some(0)), Pixel(0,7,[D@3da3856,Some(0)), Pixel(0,8,[D@43cd87b4,Some(0)), Pixel(0,9,[D@26fb3272,Some(0))]"
      ]
     },
     "execution_count": 7,
     "metadata": {},
     "output_type": "execute_result"
    }
   ],
   "source": [
    "val clusteredPixels = (pixels zip clusters.getClusterLabel()).map {case (pixel, cluster) => pixel.copy(clusterNumber = Some(cluster))}\n",
    "\n",
    "clusteredPixels.take(10)"
   ]
  },
  {
   "cell_type": "code",
   "execution_count": 8,
   "metadata": {},
   "outputs": [
    {
     "data": {
      "text/plain": [
       "[Pixel(0,0,[D@5ce845f,Some(0)), Pixel(0,1,[D@5b8e42c8,Some(0)), Pixel(0,2,[D@60ee9831,Some(0)), Pixel(0,3,[D@1249f21b,Some(0)), Pixel(0,4,[D@63546071,Some(0)), Pixel(0,5,[D@4ae5e6d1,Some(0)), Pixel(0,6,[D@5e5ec0ac,Some(0)), Pixel(0,7,[D@3da3856,Some(0)), Pixel(0,8,[D@43cd87b4,Some(0)), Pixel(0,9,[D@26fb3272,Some(0))]"
      ]
     },
     "execution_count": 8,
     "metadata": {},
     "output_type": "execute_result"
    }
   ],
   "source": [
    "val grayColor = Array(127.0, 127.0, 127.0)\n",
    "val blueClusterNumber = clusteredPixels.groupBy(pixel => pixel.clusterNumber)\n",
    "    .map {case (clusterNumber, pixels) => (clusterNumber, pixels.size) }\n",
    "    .maxBy(_._2)._1\n",
    "\n",
    "val modifiedPixels = clusteredPixels.map {\n",
    "    case p: Pixel if p.clusterNumber == blueClusterNumber => p.copy(rgbArray = grayColor)\n",
    "    case p: Pixel => p\n",
    "}\n",
    "\n",
    "modifiedPixels.take(10)"
   ]
  },
  {
   "cell_type": "code",
   "execution_count": 9,
   "metadata": {},
   "outputs": [
    {
     "data": {
      "image/png": "[encoded data removed]"
     },
     "execution_count": 9,
     "metadata": {},
     "output_type": "execute_result"
    }
   ],
   "source": [
    "val modifiedImage = new BufferedImage(testImageWidth, testImageHight, BufferedImage.TYPE_INT_RGB)\n",
    "modifiedPixels.foreach { \n",
    "    case Pixel(x, y, rgbArray, _) => \n",
    "        val r = rgbArray(0).toInt\n",
    "        val g = rgbArray(1).toInt\n",
    "        val b = rgbArray(2).toInt\n",
    "        modifiedImage.setRGB(x, y, new Color(r, g, b).getRGB)\n",
    "}\n",
    "\n",
    "modifiedImage"
   ]
  },
  {
   "cell_type": "code",
   "execution_count": 10,
   "metadata": {},
   "outputs": [
    {
     "data": {
      "text/plain": [
       "true"
      ]
     },
     "execution_count": 10,
     "metadata": {},
     "output_type": "execute_result"
    }
   ],
   "source": [
    "ImageIO.write(testImage, \"png\", new File(\"testImage.png\"))\n",
    "ImageIO.write(modifiedImage, \"png\", new File(\"modifiedImage.png\"))"
   ]
  }
 ],
 "metadata": {
  "kernelspec": {
   "display_name": "Scala",
   "language": "scala",
   "name": "scala"
  },
  "language_info": {
   "codemirror_mode": "text/x-scala",
   "file_extension": ".scala",
   "mimetype": "",
   "name": "Scala",
   "nbconverter_exporter": "",
   "version": "2.11.12"
  },
  "toc": {
   "base_numbering": 1,
   "nav_menu": {},
   "number_sections": false,
   "sideBar": false,
   "skip_h1_title": false,
   "title_cell": "Table of Contents",
   "title_sidebar": "Contents",
   "toc_cell": false,
   "toc_position": {},
   "toc_section_display": false,
   "toc_window_display": false
  }
 },
 "nbformat": 4,
 "nbformat_minor": 2
}

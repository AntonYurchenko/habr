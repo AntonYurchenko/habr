{
 "cells": [
  {
   "cell_type": "raw",
   "metadata": {},
   "source": [
    "Uploading dependencies"
   ]
  },
  {
   "cell_type": "code",
   "execution_count": 1,
   "metadata": {},
   "outputs": [
    {
     "data": {
      "application/vnd.jupyter.widget-view+json": {
       "model_id": "",
       "version_major": 2,
       "version_minor": 0
      },
      "method": "display_data"
     },
     "metadata": {},
     "output_type": "display_data"
    },
    {
     "data": {
      "application/vnd.jupyter.widget-view+json": {
       "model_id": "6b22e79e-db3a-4783-8afc-4d085a4c51a5",
       "version_major": 2,
       "version_minor": 0
      },
      "method": "display_data"
     },
     "metadata": {},
     "output_type": "display_data"
    }
   ],
   "source": [
    "%%classpath add mvn\n",
    "com.github.haifengl smile-scala_2.12 1.5.2"
   ]
  },
  {
   "cell_type": "raw",
   "metadata": {},
   "source": [
    "Import all packages"
   ]
  },
  {
   "cell_type": "code",
   "execution_count": 2,
   "metadata": {},
   "outputs": [
    {
     "data": {
      "text/plain": [
       "import java.awt.image.BufferedImage\n",
       "import java.awt.Color\n",
       "import javax.imageio.ImageIO\n",
       "import java.io.File\n",
       "import smile.clustering._\n"
      ]
     },
     "execution_count": 2,
     "metadata": {},
     "output_type": "execute_result"
    }
   ],
   "source": [
    "import java.awt.image.BufferedImage\n",
    "import java.awt.Color\n",
    "import javax.imageio.ImageIO\n",
    "import java.io.File\n",
    "import smile.clustering._"
   ]
  },
  {
   "cell_type": "raw",
   "metadata": {},
   "source": [
    "Creation test image"
   ]
  },
  {
   "cell_type": "code",
   "execution_count": 3,
   "metadata": {},
   "outputs": [
    {
     "data": {
      "image/png": "[encoded data removed]"
     },
     "execution_count": 3,
     "metadata": {},
     "output_type": "execute_result"
    }
   ],
   "source": [
    "val testImageWidth = 640\n",
    "val testImageHight = 360\n",
    "val testImage = new BufferedImage(testImageWidth, testImageHight, BufferedImage.TYPE_INT_RGB)\n",
    "\n",
    "for {\n",
    "    x <- (0 until testImageWidth)\n",
    "    y <- (0 until testImageHight)\n",
    "    color = if (y <= testImageHight / 3 && (x <= testImageWidth / 3 || x > testImageWidth / 3 * 2)) Color.RED\n",
    "    else if (y > testImageHight / 3 * 2 && (x <= testImageWidth / 3 || x > testImageWidth / 3 * 2)) Color.GREEN\n",
    "    else Color.BLUE\n",
    "} testImage.setRGB(x, y, color.getRGB)\n",
    "\n",
    "testImage"
   ]
  },
  {
   "cell_type": "raw",
   "metadata": {},
   "source": [
    "Reading test image and convert to array of pixels"
   ]
  },
  {
   "cell_type": "code",
   "execution_count": 4,
   "metadata": {},
   "outputs": [
    {
     "data": {
      "text/plain": [
       "defined class Pixel\n"
      ]
     },
     "execution_count": 4,
     "metadata": {},
     "output_type": "execute_result"
    }
   ],
   "source": [
    "case class Pixel(x: Int, y: Int, rgbArray: Array[Double], clusterNumber: Option[Int] = None)"
   ]
  },
  {
   "cell_type": "code",
   "execution_count": 5,
   "metadata": {},
   "outputs": [
    {
     "data": {
      "text/plain": [
       "[Pixel(0,0,[D@527b8d89,None), Pixel(0,1,[D@4eca2c50,None), Pixel(0,2,[D@6cf23f72,None), Pixel(0,3,[D@73542e79,None), Pixel(0,4,[D@7dcde25f,None), Pixel(0,5,[D@62fae91a,None), Pixel(0,6,[D@1f0e5398,None), Pixel(0,7,[D@4d7b91e6,None), Pixel(0,8,[D@5fb65d0c,None), Pixel(0,9,[D@6a31ddd9,None)]"
      ]
     },
     "execution_count": 5,
     "metadata": {},
     "output_type": "execute_result"
    }
   ],
   "source": [
    "val pixels = for {\n",
    "    x <- (0 until testImage.getWidth).toArray\n",
    "    y <- (0 until testImage.getHeight)\n",
    "    color = new Color(testImage.getRGB(x, y))\n",
    "} yield Pixel(x, y, Array(color.getRed.toDouble, color.getGreen.toDouble, color.getBlue.toDouble))\n",
    "\n",
    "pixels.take(10)"
   ]
  },
  {
   "cell_type": "raw",
   "metadata": {},
   "source": [
    "Clustering of test image pixels"
   ]
  },
  {
   "cell_type": "code",
   "execution_count": 6,
   "metadata": {},
   "outputs": [
    {
     "data": {
      "text/plain": [
       "K-Means distortion: 0.00000\n",
       "Clusters of 230400 data points of dimension 3:\n",
       "  0\t127920 (55.5%)\n",
       "  1\t50813 (22.1%)\n",
       "  2\t51667 (22.4%)\n"
      ]
     },
     "execution_count": 6,
     "metadata": {},
     "output_type": "execute_result"
    }
   ],
   "source": [
    "val countColors = 3\n",
    "val clusters = kmeans(pixels.map(_.rgbArray), k = countColors, runs = 20)"
   ]
  },
  {
   "cell_type": "code",
   "execution_count": 7,
   "metadata": {},
   "outputs": [
    {
     "data": {
      "text/plain": [
       "[Pixel(0,0,[D@527b8d89,Some(2)), Pixel(0,1,[D@4eca2c50,Some(2)), Pixel(0,2,[D@6cf23f72,Some(2)), Pixel(0,3,[D@73542e79,Some(2)), Pixel(0,4,[D@7dcde25f,Some(2)), Pixel(0,5,[D@62fae91a,Some(2)), Pixel(0,6,[D@1f0e5398,Some(2)), Pixel(0,7,[D@4d7b91e6,Some(2)), Pixel(0,8,[D@5fb65d0c,Some(2)), Pixel(0,9,[D@6a31ddd9,Some(2))]"
      ]
     },
     "execution_count": 7,
     "metadata": {},
     "output_type": "execute_result"
    }
   ],
   "source": [
    "val clusteredPixels = (pixels zip clusters.getClusterLabel()).map {case (pixel, cluster) => pixel.copy(clusterNumber = Some(cluster))}\n",
    "\n",
    "clusteredPixels.take(10)"
   ]
  },
  {
   "cell_type": "raw",
   "metadata": {},
   "source": [
    "Selection cluster of pixel with maximum size and replacing all pixels in this cluster on grey pixels (grey color is Array(127.0, 127.0, 127.0))"
   ]
  },
  {
   "cell_type": "code",
   "execution_count": 8,
   "metadata": {},
   "outputs": [
    {
     "data": {
      "text/plain": [
       "[Pixel(0,0,[D@527b8d89,Some(2)), Pixel(0,1,[D@4eca2c50,Some(2)), Pixel(0,2,[D@6cf23f72,Some(2)), Pixel(0,3,[D@73542e79,Some(2)), Pixel(0,4,[D@7dcde25f,Some(2)), Pixel(0,5,[D@62fae91a,Some(2)), Pixel(0,6,[D@1f0e5398,Some(2)), Pixel(0,7,[D@4d7b91e6,Some(2)), Pixel(0,8,[D@5fb65d0c,Some(2)), Pixel(0,9,[D@6a31ddd9,Some(2))]"
      ]
     },
     "execution_count": 8,
     "metadata": {},
     "output_type": "execute_result"
    }
   ],
   "source": [
    "val grayColor = Array(127.0, 127.0, 127.0)\n",
    "val redClusterNumber = clusteredPixels.groupBy(pixel => pixel.clusterNumber)\n",
    "    .map {case (clusterNumber, pixels) => (clusterNumber, pixels.size) }\n",
    "    .maxBy(_._2)._1\n",
    "\n",
    "val modifiedPixels = clusteredPixels.map {\n",
    "    case p: Pixel if p.clusterNumber == redClusterNumber => p.copy(rgbArray = grayColor)\n",
    "    case p: Pixel => p\n",
    "}\n",
    "\n",
    "modifiedPixels.take(10)"
   ]
  },
  {
   "cell_type": "raw",
   "metadata": {},
   "source": [
    "Modification test image"
   ]
  },
  {
   "cell_type": "code",
   "execution_count": 9,
   "metadata": {},
   "outputs": [
    {
     "data": {
      "image/png": "[encoded data removed]"
     },
     "execution_count": 9,
     "metadata": {},
     "output_type": "execute_result"
    }
   ],
   "source": [
    "val modifiedImage = new BufferedImage(testImageWidth, testImageHight, BufferedImage.TYPE_INT_RGB)\n",
    "modifiedPixels.foreach { \n",
    "    case Pixel(x, y, rgbArray, _) => \n",
    "        val r = rgbArray(0).toInt\n",
    "        val g = rgbArray(1).toInt\n",
    "        val b = rgbArray(2).toInt\n",
    "        modifiedImage.setRGB(x, y, new Color(r, g, b).getRGB)\n",
    "}\n",
    "\n",
    "modifiedImage"
   ]
  },
  {
   "cell_type": "markdown",
   "metadata": {},
   "source": [
    "Saving all images"
   ]
  },
  {
   "cell_type": "code",
   "execution_count": 10,
   "metadata": {},
   "outputs": [
    {
     "data": {
      "text/plain": [
       "true"
      ]
     },
     "execution_count": 10,
     "metadata": {},
     "output_type": "execute_result"
    }
   ],
   "source": [
    "ImageIO.write(testImage, \"png\", new File(\"testImage.png\"))\n",
    "ImageIO.write(modifiedImage, \"png\", new File(\"modifiedImage.png\"))"
   ]
  }
 ],
 "metadata": {
  "kernelspec": {
   "display_name": "Scala",
   "language": "scala",
   "name": "scala"
  },
  "language_info": {
   "codemirror_mode": "text/x-scala",
   "file_extension": ".scala",
   "mimetype": "",
   "name": "Scala",
   "nbconverter_exporter": "",
   "version": "2.11.12"
  },
  "toc": {
   "base_numbering": 1,
   "nav_menu": {},
   "number_sections": false,
   "sideBar": false,
   "skip_h1_title": false,
   "title_cell": "Table of Contents",
   "title_sidebar": "Contents",
   "toc_cell": false,
   "toc_position": {},
   "toc_section_display": false,
   "toc_window_display": false
  }
 },
 "nbformat": 4,
 "nbformat_minor": 2
}
